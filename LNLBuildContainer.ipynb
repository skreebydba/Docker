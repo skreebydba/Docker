{
    "metadata": {
        "kernelspec": {
            "name": "powershell",
            "display_name": "PowerShell"
        },
        "language_info": {
            "name": "powershell",
            "codemirror_mode": "shell",
            "mimetype": "text/x-sh",
            "file_extension": ".ps1"
        }
    },
    "nbformat_minor": 2,
    "nbformat": 4,
    "cells": [
        {
            "cell_type": "markdown",
            "source": [
                "## Step 1 - To start the process, pull the latest image of SQL Server 2019 for ubuntu.\n",
                "\n",
                ""
            ],
            "metadata": {
                "azdata_cell_guid": "f7b27a4d-420d-4ada-89a7-8eb471a79fba"
            }
        },
        {
            "cell_type": "code",
            "source": [
                "docker pull mcr.microsoft.com/mssql/server:2019-CU1-ubuntu-16.04"
            ],
            "metadata": {
                "azdata_cell_guid": "3d7238fd-de1e-4fd5-9ac2-d3384619187b"
            },
            "outputs": [],
            "execution_count": 1
        },
        {
            "cell_type": "markdown",
            "source": [
                "## Step 2 - Create a SQL Server container using the latest image.  \r\n",
                "### Note: The -v parm creates a persistent volume for the container mapped to path /var/opt/mssql.  If a database is restored to the container, the data and log files will be persisted.  If the container is removed, a new container can be created using the same persistent volume and the restored databases will be available.\r\n",
                "\r\n",
                ""
            ],
            "metadata": {
                "azdata_cell_guid": "b9e9a89a-2f15-4f00-818d-ee4fafe8cc71"
            }
        },
        {
            "cell_type": "code",
            "source": [
                "$password = 'JuanS0t022';\r\n",
                "$containername = 'sqlserver2019cu1';\r\n",
                "$port = 1438;\r\n",
                "$image = 'mcr.microsoft.com/mssql/server:2019-CU1-ubuntu-16.04';\r\n",
                "docker run -e 'ACCEPT_EULA=Y' -e \"SA_PASSWORD=$password\" -v sqlserver2019cu1data:/var/opt/mssql  -e MSSQL_AGENT_ENABLED=True --name $containername -p \"$port`:1433\" -d $image"
            ],
            "metadata": {
                "azdata_cell_guid": "fc493f78-cf2b-4298-a4a5-2ad6cc120979",
                "tags": []
            },
            "outputs": [],
            "execution_count": 4
        },
        {
            "cell_type": "markdown",
            "source": [
                "## Step 3 - Create a backup directory on the container.\r\n",
                "### Use docker exec to create a backup directory on the container.  Because it is being created at the /var/opt/mssql path, it will be persisted."
            ],
            "metadata": {
                "azdata_cell_guid": "6127e57a-1159-4e54-a921-f2bbf1a0c27a"
            }
        },
        {
            "cell_type": "code",
            "source": [
                "docker exec sqlserver2019 mkdir /var/opt/mssql/backup"
            ],
            "metadata": {
                "azdata_cell_guid": "d59ba92a-5484-4573-b35e-26866450ed20"
            },
            "outputs": [],
            "execution_count": 2
        },
        {
            "cell_type": "markdown",
            "source": [
                "## Step 4 - Copy a backup file to the container.\r\n",
                "### Copy a backup file to the new backup directory from your local machine."
            ],
            "metadata": {
                "azdata_cell_guid": "3673e0b3-7031-499a-8123-28bd08308c72"
            }
        },
        {
            "cell_type": "code",
            "source": [
                "docker cp wwi.bak sqlserver2019:/var/opt/mssql/backup"
            ],
            "metadata": {
                "azdata_cell_guid": "8ecd5849-c1b8-45f6-a255-9bde93d4f44a"
            },
            "outputs": [],
            "execution_count": 3
        }
    ]
}