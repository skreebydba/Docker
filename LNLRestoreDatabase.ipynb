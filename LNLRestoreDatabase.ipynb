{
    "metadata": {
        "kernelspec": {
            "name": "SQL",
            "display_name": "SQL",
            "language": "sql"
        },
        "language_info": {
            "name": "sql",
            "version": ""
        }
    },
    "nbformat_minor": 2,
    "nbformat": 4,
    "cells": [
        {
            "cell_type": "markdown",
            "source": [
                "## Step 5 - Use the backup file copied to the container to restore a database.\r\n",
                "### The code below will drop the WideWorldImporters database if it exists.  It runs RESTORE FILELISTONLY to return information about the files contained in the backup file."
            ],
            "metadata": {
                "azdata_cell_guid": "37843b83-0379-40f0-82db-05209614bcab"
            }
        },
        {
            "cell_type": "code",
            "source": [
                "DROP DATABASE IF EXISTS WideWorldImporters;\r\n",
                "\r\n",
                "RESTORE FILELISTONLY FROM DISK = '/var/opt/mssql/backup/wwi.bak';"
            ],
            "metadata": {
                "azdata_cell_guid": "9e059484-1a97-4a8b-aad6-7e7f8df0f354"
            },
            "outputs": [],
            "execution_count": 1
        },
        {
            "cell_type": "markdown",
            "source": [
                "## Step 6 - Restore the database.\r\n",
                "### Restore the WideWorldImporters database to the container instance."
            ],
            "metadata": {
                "azdata_cell_guid": "66c5ff3e-3398-4edc-9dad-e32f451c6499"
            }
        },
        {
            "cell_type": "code",
            "source": [
                "RESTORE DATABASE WideWorldImporters \n",
                "FROM DISK = '/var/opt/mssql/backup/wwi.bak' \n",
                "WITH MOVE 'WWI_Primary' TO '/var/opt/mssql/data/WideWorldImporters.mdf', \n",
                "MOVE 'WWI_UserData' TO '/var/opt/mssql/data/WideWorldImporters_userdata.ndf', \n",
                "MOVE 'WWI_Log' TO '/var/opt/mssql/data/WideWorldImporters.ldf', \n",
                "MOVE 'WWI_InMemory_Data_1' TO '/var/opt/mssql/data/WideWorldImporters_InMemory_Data_1',\n",
                "REPLACE, STATS = 5;"
            ],
            "metadata": {
                "azdata_cell_guid": "c4775e43-7cad-469b-8063-86177f9ee787"
            },
            "outputs": [],
            "execution_count": 3
        }
    ]
}